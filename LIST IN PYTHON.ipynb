{
 "cells": [
  {
   "cell_type": "code",
   "execution_count": 1,
   "id": "26a216a1",
   "metadata": {},
   "outputs": [],
   "source": [
    "import pandas as pd"
   ]
  },
  {
   "cell_type": "markdown",
   "id": "d9b1e001",
   "metadata": {},
   "source": [
    "# LISTS IN PYTHON"
   ]
  },
  {
   "cell_type": "code",
   "execution_count": 58,
   "id": "4852be9c",
   "metadata": {},
   "outputs": [],
   "source": [
    "#EXAMPLES:\n",
    "x=[1,2,3,4,5]\n",
    "y=['APPLE','ORANGE','GRAPES','BANANA']\n",
    "z=[0.891,4,[33,44,55],'FLOAT','INTEGER',{1,2,3},(1,2,3),{\"FRUITS\":{'APPLE','ORANGE','GRAPES','BANANA'},\"VEGETABLES\":{\"POTATAO\",'TOMATO','ONIONS'}}]"
   ]
  },
  {
   "cell_type": "markdown",
   "id": "4afa157c",
   "metadata": {},
   "source": [
    "A list can contain almost all data types:floating, integers, string, a list itself, sets, tupules, dictionary."
   ]
  },
  {
   "cell_type": "code",
   "execution_count": 12,
   "id": "42ca6701",
   "metadata": {},
   "outputs": [
    {
     "data": {
      "text/plain": [
       "(list, list, list)"
      ]
     },
     "execution_count": 12,
     "metadata": {},
     "output_type": "execute_result"
    }
   ],
   "source": [
    "type(x),type(y),type(z)\n"
   ]
  },
  {
   "cell_type": "markdown",
   "id": "88877447",
   "metadata": {},
   "source": [
    "# Python offers the following list functions:\n",
    "\n",
    "sort(): Sorts the list in ascending order.\n",
    "type(list): It returns the class type of an object.\n",
    "append(): Adds a single element to a list.\n",
    "extend(): Adds multiple elements to a list.\n",
    "index(): Returns the first appearance of the specified value.\n",
    "max(list): It returns an item from the list with max value.\n",
    "min(list): It returns an item from the list with min value.\n",
    "len(list): It gives the total length of the list.\n",
    "list(seq): Converts a tuple into a list.\n",
    "cmp(list1, list2): It compares elements of both lists list1 and list2."
   ]
  },
  {
   "cell_type": "markdown",
   "id": "99dba72c",
   "metadata": {},
   "source": [
    "# INDEXING AND SLICING"
   ]
  },
  {
   "cell_type": "code",
   "execution_count": 13,
   "id": "cf57f687",
   "metadata": {},
   "outputs": [
    {
     "data": {
      "text/plain": [
       "(5, 4, 8)"
      ]
     },
     "execution_count": 13,
     "metadata": {},
     "output_type": "execute_result"
    }
   ],
   "source": [
    "#LENGTH OF A LIST\n",
    "len(x),len(y),len(z)"
   ]
  },
  {
   "cell_type": "code",
   "execution_count": 15,
   "id": "3fe485a6",
   "metadata": {},
   "outputs": [
    {
     "data": {
      "text/plain": [
       "(1, 5, 'BANANA', 'INTEGER', [33, 44, 55])"
      ]
     },
     "execution_count": 15,
     "metadata": {},
     "output_type": "execute_result"
    }
   ],
   "source": [
    "# index start from zero\n",
    "x[0],x[4],y[3],z[4],z[2]"
   ]
  },
  {
   "cell_type": "code",
   "execution_count": 18,
   "id": "bf8ba266",
   "metadata": {},
   "outputs": [
    {
     "data": {
      "text/plain": [
       "([2, 3, 4, 5],\n",
       " ['ORANGE', 'GRAPES', 'BANANA'],\n",
       " [4,\n",
       "  [33, 44, 55],\n",
       "  'FLOAT',\n",
       "  'INTEGER',\n",
       "  {1, 2, 3},\n",
       "  (1, 2, 3),\n",
       "  {'FRUITS': {'APPLE', 'BANANA', 'GRAPES', 'ORANGE'},\n",
       "   'VEGETABLES': {'ONIONS', 'POTATAO', 'TOMATO'}}])"
      ]
     },
     "execution_count": 18,
     "metadata": {},
     "output_type": "execute_result"
    }
   ],
   "source": [
    "# starting from first index upto last: list[start:stop] = start is included but stop is not.\n",
    "x[1:],y[1:],z[1:]"
   ]
  },
  {
   "cell_type": "code",
   "execution_count": 72,
   "id": "184eadfc",
   "metadata": {},
   "outputs": [
    {
     "data": {
      "text/plain": [
       "(44, 'L')"
      ]
     },
     "execution_count": 72,
     "metadata": {},
     "output_type": "execute_result"
    }
   ],
   "source": [
    "# item at index 1 of a list ay index 2 in z (this rule can be applied only to a list, string inside a list)\n",
    "z=[0.891,4,[33,44,55],'FLOAT','INTEGER',{1,2,3},(1,2,3),{\"FRUITS\":{'APPLE','ORANGE','GRAPES','BANANA'},\"VEGETABLES\":{\"POTATAO\",'TOMATO','ONIONS'}}]\n",
    "\n",
    "#[33,44,55], 'FLOAT', (1,2,3), \n",
    "\n",
    "z[2][1],z[3][1],z[6][1]"
   ]
  },
  {
   "cell_type": "code",
   "execution_count": 71,
   "id": "4d9afe03",
   "metadata": {},
   "outputs": [
    {
     "ename": "TypeError",
     "evalue": "'set' object is not subscriptable",
     "output_type": "error",
     "traceback": [
      "\u001b[1;31m---------------------------------------------------------------------------\u001b[0m",
      "\u001b[1;31mTypeError\u001b[0m                                 Traceback (most recent call last)",
      "\u001b[1;32m<ipython-input-71-e442d70af97d>\u001b[0m in \u001b[0;36m<module>\u001b[1;34m\u001b[0m\n\u001b[0;32m      1\u001b[0m \u001b[1;31m#{1,2,3}\u001b[0m\u001b[1;33m\u001b[0m\u001b[1;33m\u001b[0m\u001b[1;33m\u001b[0m\u001b[0m\n\u001b[1;32m----> 2\u001b[1;33m \u001b[0mz\u001b[0m\u001b[1;33m[\u001b[0m\u001b[1;36m5\u001b[0m\u001b[1;33m]\u001b[0m\u001b[1;33m[\u001b[0m\u001b[1;36m1\u001b[0m\u001b[1;33m]\u001b[0m\u001b[1;33m\u001b[0m\u001b[1;33m\u001b[0m\u001b[0m\n\u001b[0m",
      "\u001b[1;31mTypeError\u001b[0m: 'set' object is not subscriptable"
     ]
    }
   ],
   "source": [
    "#{1,2,3}\n",
    "z[5][1]"
   ]
  },
  {
   "cell_type": "markdown",
   "id": "3a9bc817",
   "metadata": {},
   "source": [
    "NOTE: float, integers, sets, dictionary are not subscriptable."
   ]
  },
  {
   "cell_type": "code",
   "execution_count": 21,
   "id": "dd5b06fb",
   "metadata": {},
   "outputs": [
    {
     "data": {
      "text/plain": [
       "[2, 3, 4, 5, 'ORANGE', 'GRAPES', 'BANANA', 0.891, 4]"
      ]
     },
     "execution_count": 21,
     "metadata": {},
     "output_type": "execute_result"
    }
   ],
   "source": [
    "# what a plus sign does if used between two lists: we can put items of separate lists in one list using plus operator.\n",
    "# list_1[:] + list_2[:]\n",
    "x[1:]+y[1:]+z[:2]"
   ]
  },
  {
   "cell_type": "code",
   "execution_count": 25,
   "id": "d09df5ca",
   "metadata": {},
   "outputs": [
    {
     "data": {
      "text/plain": [
       "(0, 1, 5)"
      ]
     },
     "execution_count": 25,
     "metadata": {},
     "output_type": "execute_result"
    }
   ],
   "source": [
    "# we can even find an item's index: list.index(item)\n",
    "x.index(1),y.index(\"ORANGE\"), z.index({1,2,3})"
   ]
  },
  {
   "cell_type": "code",
   "execution_count": 26,
   "id": "07efacf5",
   "metadata": {},
   "outputs": [
    {
     "data": {
      "text/plain": [
       "[[1, 2, 3], [11, 22, 33]]"
      ]
     },
     "execution_count": 26,
     "metadata": {},
     "output_type": "execute_result"
    }
   ],
   "source": [
    "# list inside a list: step 1. define an empty list: list[], step 2. list.append(list_1), list.append(list_2)\n",
    "a=[1,2,3]\n",
    "b=[11,22,33]\n",
    "y=[]\n",
    "y.append(a),y.append(b)\n",
    "y"
   ]
  },
  {
   "cell_type": "markdown",
   "id": "81429b20",
   "metadata": {},
   "source": [
    "# x.sort(*, key=None, reverse=False)"
   ]
  },
  {
   "cell_type": "code",
   "execution_count": 32,
   "id": "680d0164",
   "metadata": {},
   "outputs": [
    {
     "data": {
      "text/plain": [
       "[1, 2, 3, 4, 5]"
      ]
     },
     "execution_count": 32,
     "metadata": {},
     "output_type": "execute_result"
    }
   ],
   "source": [
    "# sort() method : sorts the original list.\n",
    "# in ascending order(by default): list.sort()\n",
    "x.sort()\n",
    "x"
   ]
  },
  {
   "cell_type": "code",
   "execution_count": 36,
   "id": "155b8af3",
   "metadata": {},
   "outputs": [
    {
     "data": {
      "text/plain": [
       "[55, 9, 7, 4, 2, 1, 0]"
      ]
     },
     "execution_count": 36,
     "metadata": {},
     "output_type": "execute_result"
    }
   ],
   "source": [
    "# in descending order: list.sort(reverse=True)\n",
    "x=[4,55,2,0,1,7,9]\n",
    "x.sort(reverse=True)\n",
    "x"
   ]
  },
  {
   "cell_type": "code",
   "execution_count": 56,
   "id": "782c7d23",
   "metadata": {},
   "outputs": [
    {
     "data": {
      "text/plain": [
       "[{'name': 'abc', 'age': '45', 'salary': 35000},\n",
       " {'name': 'mno', 'age': '37', 'salary': 40000},\n",
       " {'name': 'pqr', 'age': '40', 'salary': 30000}]"
      ]
     },
     "execution_count": 56,
     "metadata": {},
     "output_type": "execute_result"
    }
   ],
   "source": [
    "z=[{\"name\":\"abc\",\"age\":\"45\",\"salary\":35000},\n",
    "   {\"name\":\"pqr\",\"age\":\"40\",\"salary\":30000},\n",
    "   {\"name\":\"mno\",\"age\":\"37\",\"salary\":40000}]\n",
    "def get_name(z):\n",
    "    return z.get(\"name\")\n",
    "def get_age(z):\n",
    "    return z.get(\"age\")\n",
    "\n",
    "z.sort(key=get_name)\n",
    "z"
   ]
  },
  {
   "cell_type": "code",
   "execution_count": 57,
   "id": "b6f3c3c8",
   "metadata": {},
   "outputs": [
    {
     "data": {
      "text/plain": [
       "[{'name': 'mno', 'age': '37', 'salary': 40000},\n",
       " {'name': 'pqr', 'age': '40', 'salary': 30000},\n",
       " {'name': 'abc', 'age': '45', 'salary': 35000}]"
      ]
     },
     "execution_count": 57,
     "metadata": {},
     "output_type": "execute_result"
    }
   ],
   "source": [
    "z.sort(key=get_age)\n",
    "z"
   ]
  },
  {
   "cell_type": "code",
   "execution_count": 51,
   "id": "3faa8359",
   "metadata": {},
   "outputs": [
    {
     "name": "stdout",
     "output_type": "stream",
     "text": [
      "enter list size5\n",
      "number at index i: 0\n",
      "2\n",
      "number at index i: 1\n",
      "4\n",
      "number at index i: 2\n",
      "5\n",
      "number at index i: 3\n",
      "1\n",
      "number at index i: 4\n",
      "7\n",
      "user list x is [2, 4, 5, 1, 7]\n"
     ]
    }
   ],
   "source": [
    "#input list elements(integers) from user for a given length\n",
    "#input():return type is string\n",
    "x=[]\n",
    "n=int(input(\"enter list size\"))\n",
    "for i in range(0,n):\n",
    "    print(\"number at index i:\" ,i, )\n",
    "    element=int(input())\n",
    "    x.append(element)\n",
    "print(\"user list x is\" ,x)\n",
    "    "
   ]
  },
  {
   "cell_type": "code",
   "execution_count": 52,
   "id": "88e51e6c",
   "metadata": {},
   "outputs": [
    {
     "name": "stdout",
     "output_type": "stream",
     "text": [
      "enter list size5\n",
      "element at index i: 0\n",
      "2\n",
      "element at index i: 1\n",
      "ashi\n",
      "element at index i: 2\n",
      "7\n",
      "element at index i: 3\n",
      "7\n",
      "element at index i: 4\n",
      "1\n",
      "user list x is ['2', 'ashi', '7', '7', '1']\n"
     ]
    }
   ],
   "source": [
    "#input list elements(strings) from user for a given length\n",
    "#input():return type is string\n",
    "x=[]\n",
    "n=int(input(\"enter list size\"))\n",
    "for i in range(0,n):\n",
    "    print(\"element at index i:\" ,i, )\n",
    "    element=input()\n",
    "    x.append(element)\n",
    "print(\"user list x is\" ,x)\n",
    "    "
   ]
  },
  {
   "cell_type": "code",
   "execution_count": 53,
   "id": "48df9454",
   "metadata": {},
   "outputs": [
    {
     "name": "stdout",
     "output_type": "stream",
     "text": [
      "enter: name\n",
      "ASHI\n",
      "enter: age\n",
      "23\n",
      "enter: subject\n",
      "STATISTICS\n",
      "enter: country\n",
      "INDIA\n",
      "enter: marks\n",
      "82\n",
      "user list x is ['ASHI', '23', 'STATISTICS', 'INDIA', '82']\n"
     ]
    }
   ],
   "source": [
    "#input details of a student:\n",
    "x=[]\n",
    "y=[\"name\",\"age\",\"subject\",\"country\",\"marks\"]\n",
    "n=len(y)\n",
    "for i in range(0,n):\n",
    "    print(\"enter:\" ,y[i], )\n",
    "    element=input()\n",
    "    x.append(element)\n",
    "print(\"user list x is\" ,x)\n",
    "\n"
   ]
  },
  {
   "cell_type": "code",
   "execution_count": 59,
   "id": "857c928b",
   "metadata": {},
   "outputs": [
    {
     "data": {
      "text/plain": [
       "(1, 4)"
      ]
     },
     "execution_count": 59,
     "metadata": {},
     "output_type": "execute_result"
    }
   ],
   "source": [
    "#change age and marks to integers.\n",
    "y.index(\"age\"),y.index(\"marks\")"
   ]
  },
  {
   "cell_type": "code",
   "execution_count": null,
   "id": "18845143",
   "metadata": {},
   "outputs": [],
   "source": []
  },
  {
   "cell_type": "code",
   "execution_count": 4,
   "id": "fae8629a",
   "metadata": {},
   "outputs": [
    {
     "name": "stdout",
     "output_type": "stream",
     "text": [
      "enter: name\n",
      "a\n",
      "user: 0 name ['a']\n",
      "enter: date_start\n",
      "2021-01-09\n",
      "user: 0 date_start ['a', '2021-01-09']\n",
      "enter: name\n",
      "b\n",
      "user: 1 name ['b']\n",
      "enter: date_start\n",
      "2021-01-30\n",
      "user: 1 date_start ['b', '2021-01-30']\n",
      "enter: name\n",
      "c\n",
      "user: 2 name ['c']\n",
      "enter: date_start\n",
      "2021-02-18\n",
      "user: 2 date_start ['c', '2021-02-18']\n",
      "enter: name\n",
      "d\n",
      "user: 3 name ['d']\n",
      "enter: date_start\n",
      "2021-03-06\n",
      "user: 3 date_start ['d', '2021-03-06']\n",
      "enter: name\n",
      "e\n",
      "user: 4 name ['e']\n",
      "enter: date_start\n",
      "2021-04-20\n",
      "user: 4 date_start ['e', '2021-04-20']\n",
      "[['a', '2021-01-09'], ['b', '2021-01-30'], ['c', '2021-02-18'], ['d', '2021-03-06'], ['e', '2021-04-20']]\n"
     ]
    }
   ],
   "source": [
    "x=[]\n",
    "y=[\"name\",\"date_start\"]\n",
    "n=len(y)\n",
    "z=[]\n",
    "s=5\n",
    "for i in range(0,s):\n",
    "    for j in range(0,n):\n",
    "        print(\"enter:\" ,y[j], )\n",
    "        element=input()\n",
    "        x.append(element)\n",
    "        print(\"user:\", i, y[j] ,x)\n",
    "    z.append(x)\n",
    "    x=[]\n",
    "print(z)    \n"
   ]
  },
  {
   "cell_type": "code",
   "execution_count": 39,
   "id": "4227165e",
   "metadata": {},
   "outputs": [],
   "source": [
    "df=pd.DataFrame(z,columns=(\"name\",\"start_date\"))"
   ]
  },
  {
   "cell_type": "code",
   "execution_count": 40,
   "id": "304780c3",
   "metadata": {},
   "outputs": [
    {
     "data": {
      "text/html": [
       "<div>\n",
       "<style scoped>\n",
       "    .dataframe tbody tr th:only-of-type {\n",
       "        vertical-align: middle;\n",
       "    }\n",
       "\n",
       "    .dataframe tbody tr th {\n",
       "        vertical-align: top;\n",
       "    }\n",
       "\n",
       "    .dataframe thead th {\n",
       "        text-align: right;\n",
       "    }\n",
       "</style>\n",
       "<table border=\"1\" class=\"dataframe\">\n",
       "  <thead>\n",
       "    <tr style=\"text-align: right;\">\n",
       "      <th></th>\n",
       "      <th>name</th>\n",
       "      <th>start_date</th>\n",
       "    </tr>\n",
       "  </thead>\n",
       "  <tbody>\n",
       "    <tr>\n",
       "      <th>0</th>\n",
       "      <td>a</td>\n",
       "      <td>2021-01-09</td>\n",
       "    </tr>\n",
       "    <tr>\n",
       "      <th>1</th>\n",
       "      <td>b</td>\n",
       "      <td>2021-01-30</td>\n",
       "    </tr>\n",
       "    <tr>\n",
       "      <th>2</th>\n",
       "      <td>c</td>\n",
       "      <td>2021-02-18</td>\n",
       "    </tr>\n",
       "    <tr>\n",
       "      <th>3</th>\n",
       "      <td>d</td>\n",
       "      <td>2021-03-06</td>\n",
       "    </tr>\n",
       "    <tr>\n",
       "      <th>4</th>\n",
       "      <td>e</td>\n",
       "      <td>2021-04-20</td>\n",
       "    </tr>\n",
       "  </tbody>\n",
       "</table>\n",
       "</div>"
      ],
      "text/plain": [
       "  name  start_date\n",
       "0    a  2021-01-09\n",
       "1    b  2021-01-30\n",
       "2    c  2021-02-18\n",
       "3    d  2021-03-06\n",
       "4    e  2021-04-20"
      ]
     },
     "execution_count": 40,
     "metadata": {},
     "output_type": "execute_result"
    }
   ],
   "source": [
    "df"
   ]
  },
  {
   "cell_type": "code",
   "execution_count": 41,
   "id": "a325c1b1",
   "metadata": {},
   "outputs": [
    {
     "name": "stdout",
     "output_type": "stream",
     "text": [
      "<class 'pandas.core.frame.DataFrame'>\n",
      "RangeIndex: 5 entries, 0 to 4\n",
      "Data columns (total 2 columns):\n",
      " #   Column      Non-Null Count  Dtype \n",
      "---  ------      --------------  ----- \n",
      " 0   name        5 non-null      object\n",
      " 1   start_date  5 non-null      object\n",
      "dtypes: object(2)\n",
      "memory usage: 104.0+ bytes\n"
     ]
    }
   ],
   "source": [
    "present_date=pd.to_datetime(\"2021-08-24\")\n",
    "df.info()"
   ]
  },
  {
   "cell_type": "code",
   "execution_count": 42,
   "id": "cf02b24f",
   "metadata": {},
   "outputs": [],
   "source": [
    "df['start_date']=pd.to_datetime(df['start_date'])"
   ]
  },
  {
   "cell_type": "code",
   "execution_count": 43,
   "id": "297d77d6",
   "metadata": {},
   "outputs": [],
   "source": [
    "df['months']=df.agg({'start_date': lambda x:(present_date-x).days/30})"
   ]
  },
  {
   "cell_type": "code",
   "execution_count": 44,
   "id": "84304a33",
   "metadata": {},
   "outputs": [
    {
     "data": {
      "text/html": [
       "<div>\n",
       "<style scoped>\n",
       "    .dataframe tbody tr th:only-of-type {\n",
       "        vertical-align: middle;\n",
       "    }\n",
       "\n",
       "    .dataframe tbody tr th {\n",
       "        vertical-align: top;\n",
       "    }\n",
       "\n",
       "    .dataframe thead th {\n",
       "        text-align: right;\n",
       "    }\n",
       "</style>\n",
       "<table border=\"1\" class=\"dataframe\">\n",
       "  <thead>\n",
       "    <tr style=\"text-align: right;\">\n",
       "      <th></th>\n",
       "      <th>name</th>\n",
       "      <th>start_date</th>\n",
       "      <th>months</th>\n",
       "    </tr>\n",
       "  </thead>\n",
       "  <tbody>\n",
       "    <tr>\n",
       "      <th>0</th>\n",
       "      <td>a</td>\n",
       "      <td>2021-01-09</td>\n",
       "      <td>7.566667</td>\n",
       "    </tr>\n",
       "    <tr>\n",
       "      <th>1</th>\n",
       "      <td>b</td>\n",
       "      <td>2021-01-30</td>\n",
       "      <td>6.866667</td>\n",
       "    </tr>\n",
       "    <tr>\n",
       "      <th>2</th>\n",
       "      <td>c</td>\n",
       "      <td>2021-02-18</td>\n",
       "      <td>6.233333</td>\n",
       "    </tr>\n",
       "    <tr>\n",
       "      <th>3</th>\n",
       "      <td>d</td>\n",
       "      <td>2021-03-06</td>\n",
       "      <td>5.700000</td>\n",
       "    </tr>\n",
       "    <tr>\n",
       "      <th>4</th>\n",
       "      <td>e</td>\n",
       "      <td>2021-04-20</td>\n",
       "      <td>4.200000</td>\n",
       "    </tr>\n",
       "  </tbody>\n",
       "</table>\n",
       "</div>"
      ],
      "text/plain": [
       "  name start_date    months\n",
       "0    a 2021-01-09  7.566667\n",
       "1    b 2021-01-30  6.866667\n",
       "2    c 2021-02-18  6.233333\n",
       "3    d 2021-03-06  5.700000\n",
       "4    e 2021-04-20  4.200000"
      ]
     },
     "execution_count": 44,
     "metadata": {},
     "output_type": "execute_result"
    }
   ],
   "source": [
    "df"
   ]
  },
  {
   "cell_type": "code",
   "execution_count": null,
   "id": "8753af16",
   "metadata": {},
   "outputs": [],
   "source": []
  }
 ],
 "metadata": {
  "kernelspec": {
   "display_name": "Python 3",
   "language": "python",
   "name": "python3"
  },
  "language_info": {
   "codemirror_mode": {
    "name": "ipython",
    "version": 3
   },
   "file_extension": ".py",
   "mimetype": "text/x-python",
   "name": "python",
   "nbconvert_exporter": "python",
   "pygments_lexer": "ipython3",
   "version": "3.8.8"
  }
 },
 "nbformat": 4,
 "nbformat_minor": 5
}
